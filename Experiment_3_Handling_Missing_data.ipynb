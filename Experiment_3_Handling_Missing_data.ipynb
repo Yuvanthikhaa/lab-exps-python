{
  "nbformat": 4,
  "nbformat_minor": 0,
  "metadata": {
    "colab": {
      "name": "Experiment_3_Handling_Missing_data.ipynb",
      "provenance": [],
      "collapsed_sections": [
        "Tm_oUHd4OOx2",
        "U0vcwCFAh1We",
        "Z5vdKKOMiFvd",
        "ZA4Or0hcikPc",
        "1tU1zk5bi3Tc",
        "LWEruqngjDSu"
      ]
    },
    "kernelspec": {
      "display_name": "Python 3",
      "name": "python3"
    },
    "language_info": {
      "name": "python"
    }
  },
  "cells": [
    {
      "cell_type": "markdown",
      "metadata": {
        "id": "nuGKYWCmk0RC"
      },
      "source": [
        "#**Aim:**"
      ]
    },
    {
      "cell_type": "markdown",
      "metadata": {
        "id": "CtyrsWZhk8BK"
      },
      "source": [
        "To handle missing data using Pandas package."
      ]
    },
    {
      "cell_type": "markdown",
      "metadata": {
        "id": "dpW0KQvGm3M-"
      },
      "source": [
        "## **Algorithm:**"
      ]
    },
    {
      "cell_type": "markdown",
      "metadata": {
        "id": "OKTWKd81nbXF"
      },
      "source": [
        "\n",
        "\n",
        "*   Start the program.\n",
        "*   Import Pandas Package in the notebook:\n",
        "      **Command**: *import pandas*.\n",
        "*  Functions below are used to handle the missing data.\n",
        "*   *isnull()*,*notnull()* - The function is used to identify if datasets has missing value or not. They return boolean values.\n",
        "*   *dropna()* - This function removes the row having missing value(s).\n",
        "*   *fillna()* - This function fills the missing value with the provided value.\n",
        "*   *replace()* - This function replaces the NaN with the provided word\n",
        "*   *interpolate()* - This function fills the missing data with some value(s) generated after applying the algorithm. It is better to use interpolate instead of hard coding.\n",
        "*   Create Dataframe and Series and Handle the missing data using Pandas.\n",
        "*   End the program.\n",
        "\n",
        "\n",
        "\n"
      ]
    },
    {
      "cell_type": "markdown",
      "metadata": {
        "id": "BYByTWDsdXvh"
      },
      "source": [
        "#**Missing Data Pandas:**"
      ]
    },
    {
      "cell_type": "markdown",
      "metadata": {
        "id": "mQM5_C3YcjOn"
      },
      "source": [
        "\n",
        "\n",
        "*   Missing data refers to missing values in the dataset. Dataset is the collection of a huge amount of information that has been recorded over time.List item\n",
        "*   This information could be related to anything like customer surveys, species of plants, animals, insects, microbes, natural calamities, internet activities, etc.List item\n",
        "\n",
        "*   We see missing space in excel or CSV files for the missing data but when this data is read using pandas then it shows NaN in place of missing data.\n",
        "\n",
        "\n",
        "\n",
        "\n"
      ]
    },
    {
      "cell_type": "markdown",
      "metadata": {
        "id": "p5ldpV5WcluX"
      },
      "source": [
        "![machine-learning-using-python-pandas-missing-values.png](data:image/png;base64,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)"
      ]
    },
    {
      "cell_type": "markdown",
      "metadata": {
        "id": "Ai8z4q1lcrMw"
      },
      "source": [
        "**Here is an example of same datasets when read using pandas. You can observe NaN in place of empty spaces.**"
      ]
    },
    {
      "cell_type": "markdown",
      "metadata": {
        "id": "uw-Zo-cYc0n3"
      },
      "source": [
        "![machine-learning-using-python-missing-values-in-pandas-2.png](data:image/png;base64,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)"
      ]
    },
    {
      "cell_type": "markdown",
      "metadata": {
        "id": "7iRd0o2Oc214"
      },
      "source": [
        "There are various built-in functions to identify & handle the missing data."
      ]
    },
    {
      "cell_type": "markdown",
      "metadata": {
        "id": "IHC08y4tc9o-"
      },
      "source": [
        "**isnull(),notnull()** - The function is used to identify if datasets has missing value or not. They return boolean values.\n",
        "\n",
        "**dropna()** - This function removes the row having missing value(s).\n",
        "\n",
        "**fillna()** - This function fills the missing value with the provided value.\n",
        "\n",
        "**replace()** - This function replaces the NaN with the provided word\n",
        "\n",
        "**interpolate()** - This function fills the missing data with some value(s) generated after applying the algorithm. It is better to use interpolate instead of hard coding."
      ]
    },
    {
      "cell_type": "markdown",
      "metadata": {
        "id": "Tm_oUHd4OOx2"
      },
      "source": [
        "# Missing Data Pandas **DataFrame:**"
      ]
    },
    {
      "cell_type": "markdown",
      "metadata": {
        "id": "JIHf9Aq-LS1U"
      },
      "source": [
        "Python pandas consider None values as missing values and assigns NaN in place of it."
      ]
    },
    {
      "cell_type": "code",
      "metadata": {
        "id": "6-SCRNBAoMRK"
      },
      "source": [
        "import pandas as pd"
      ],
      "execution_count": null,
      "outputs": []
    },
    {
      "cell_type": "code",
      "metadata": {
        "id": "NEQoeT6aop5a"
      },
      "source": [
        "df = pd.DataFrame({\n",
        "    'Part': ['Monitor', 'CPU', None, 'Mouse', None, 'Extensions', 'Table', 'Chair', 'Wifi'],\n",
        "    'Feature': ['LED', 'i7', 'RGB', 'Wireless', 'Zebronics', None, 'Urban Clap', 'Apex Chairs', 'Airtel'],\n",
        "    'Price': [12000, 3500, None, 1200, None, 250, 7000, 12000, 799]\n",
        "})"
      ],
      "execution_count": null,
      "outputs": []
    },
    {
      "cell_type": "code",
      "metadata": {
        "colab": {
          "base_uri": "https://localhost:8080/",
          "height": 326
        },
        "id": "gZGsDDa9ozgW",
        "outputId": "7924417e-3aa1-4184-af35-ac85e018f33f"
      },
      "source": [
        "df"
      ],
      "execution_count": null,
      "outputs": [
        {
          "data": {
            "text/html": [
              "<div>\n",
              "<style scoped>\n",
              "    .dataframe tbody tr th:only-of-type {\n",
              "        vertical-align: middle;\n",
              "    }\n",
              "\n",
              "    .dataframe tbody tr th {\n",
              "        vertical-align: top;\n",
              "    }\n",
              "\n",
              "    .dataframe thead th {\n",
              "        text-align: right;\n",
              "    }\n",
              "</style>\n",
              "<table border=\"1\" class=\"dataframe\">\n",
              "  <thead>\n",
              "    <tr style=\"text-align: right;\">\n",
              "      <th></th>\n",
              "      <th>Part</th>\n",
              "      <th>Feature</th>\n",
              "      <th>Price</th>\n",
              "    </tr>\n",
              "  </thead>\n",
              "  <tbody>\n",
              "    <tr>\n",
              "      <th>0</th>\n",
              "      <td>Monitor</td>\n",
              "      <td>LED</td>\n",
              "      <td>12000.0</td>\n",
              "    </tr>\n",
              "    <tr>\n",
              "      <th>1</th>\n",
              "      <td>CPU</td>\n",
              "      <td>i7</td>\n",
              "      <td>3500.0</td>\n",
              "    </tr>\n",
              "    <tr>\n",
              "      <th>2</th>\n",
              "      <td>None</td>\n",
              "      <td>RGB</td>\n",
              "      <td>NaN</td>\n",
              "    </tr>\n",
              "    <tr>\n",
              "      <th>3</th>\n",
              "      <td>Mouse</td>\n",
              "      <td>Wireless</td>\n",
              "      <td>1200.0</td>\n",
              "    </tr>\n",
              "    <tr>\n",
              "      <th>4</th>\n",
              "      <td>None</td>\n",
              "      <td>Zebronics</td>\n",
              "      <td>NaN</td>\n",
              "    </tr>\n",
              "    <tr>\n",
              "      <th>5</th>\n",
              "      <td>Extensions</td>\n",
              "      <td>None</td>\n",
              "      <td>250.0</td>\n",
              "    </tr>\n",
              "    <tr>\n",
              "      <th>6</th>\n",
              "      <td>Table</td>\n",
              "      <td>Urban Clap</td>\n",
              "      <td>7000.0</td>\n",
              "    </tr>\n",
              "    <tr>\n",
              "      <th>7</th>\n",
              "      <td>Chair</td>\n",
              "      <td>Apex Chairs</td>\n",
              "      <td>12000.0</td>\n",
              "    </tr>\n",
              "    <tr>\n",
              "      <th>8</th>\n",
              "      <td>Wifi</td>\n",
              "      <td>Airtel</td>\n",
              "      <td>799.0</td>\n",
              "    </tr>\n",
              "  </tbody>\n",
              "</table>\n",
              "</div>"
            ],
            "text/plain": [
              "         Part      Feature    Price\n",
              "0     Monitor          LED  12000.0\n",
              "1         CPU           i7   3500.0\n",
              "2        None          RGB      NaN\n",
              "3       Mouse     Wireless   1200.0\n",
              "4        None    Zebronics      NaN\n",
              "5  Extensions         None    250.0\n",
              "6       Table   Urban Clap   7000.0\n",
              "7       Chair  Apex Chairs  12000.0\n",
              "8        Wifi       Airtel    799.0"
            ]
          },
          "execution_count": 3,
          "metadata": {},
          "output_type": "execute_result"
        }
      ]
    },
    {
      "cell_type": "markdown",
      "metadata": {
        "id": "QLEtMgkAMKk8"
      },
      "source": [
        "In a DataFrame, we can identify missing data by using **isnull(), notnull()** functions."
      ]
    },
    {
      "cell_type": "markdown",
      "metadata": {
        "id": "BcUFWcaGMY6Y"
      },
      "source": [
        "**isnull()** returns True for all the missing values & False for all the occupied values."
      ]
    },
    {
      "cell_type": "code",
      "metadata": {
        "colab": {
          "base_uri": "https://localhost:8080/",
          "height": 326
        },
        "id": "qljZ77l_pKF3",
        "outputId": "6853eaed-c316-4990-93f3-a994adbf8c47"
      },
      "source": [
        "df.isnull()"
      ],
      "execution_count": null,
      "outputs": [
        {
          "data": {
            "text/html": [
              "<div>\n",
              "<style scoped>\n",
              "    .dataframe tbody tr th:only-of-type {\n",
              "        vertical-align: middle;\n",
              "    }\n",
              "\n",
              "    .dataframe tbody tr th {\n",
              "        vertical-align: top;\n",
              "    }\n",
              "\n",
              "    .dataframe thead th {\n",
              "        text-align: right;\n",
              "    }\n",
              "</style>\n",
              "<table border=\"1\" class=\"dataframe\">\n",
              "  <thead>\n",
              "    <tr style=\"text-align: right;\">\n",
              "      <th></th>\n",
              "      <th>Part</th>\n",
              "      <th>Feature</th>\n",
              "      <th>Price</th>\n",
              "    </tr>\n",
              "  </thead>\n",
              "  <tbody>\n",
              "    <tr>\n",
              "      <th>0</th>\n",
              "      <td>False</td>\n",
              "      <td>False</td>\n",
              "      <td>False</td>\n",
              "    </tr>\n",
              "    <tr>\n",
              "      <th>1</th>\n",
              "      <td>False</td>\n",
              "      <td>False</td>\n",
              "      <td>False</td>\n",
              "    </tr>\n",
              "    <tr>\n",
              "      <th>2</th>\n",
              "      <td>True</td>\n",
              "      <td>False</td>\n",
              "      <td>True</td>\n",
              "    </tr>\n",
              "    <tr>\n",
              "      <th>3</th>\n",
              "      <td>False</td>\n",
              "      <td>False</td>\n",
              "      <td>False</td>\n",
              "    </tr>\n",
              "    <tr>\n",
              "      <th>4</th>\n",
              "      <td>True</td>\n",
              "      <td>False</td>\n",
              "      <td>True</td>\n",
              "    </tr>\n",
              "    <tr>\n",
              "      <th>5</th>\n",
              "      <td>False</td>\n",
              "      <td>True</td>\n",
              "      <td>False</td>\n",
              "    </tr>\n",
              "    <tr>\n",
              "      <th>6</th>\n",
              "      <td>False</td>\n",
              "      <td>False</td>\n",
              "      <td>False</td>\n",
              "    </tr>\n",
              "    <tr>\n",
              "      <th>7</th>\n",
              "      <td>False</td>\n",
              "      <td>False</td>\n",
              "      <td>False</td>\n",
              "    </tr>\n",
              "    <tr>\n",
              "      <th>8</th>\n",
              "      <td>False</td>\n",
              "      <td>False</td>\n",
              "      <td>False</td>\n",
              "    </tr>\n",
              "  </tbody>\n",
              "</table>\n",
              "</div>"
            ],
            "text/plain": [
              "    Part  Feature  Price\n",
              "0  False    False  False\n",
              "1  False    False  False\n",
              "2   True    False   True\n",
              "3  False    False  False\n",
              "4   True    False   True\n",
              "5  False     True  False\n",
              "6  False    False  False\n",
              "7  False    False  False\n",
              "8  False    False  False"
            ]
          },
          "execution_count": 4,
          "metadata": {},
          "output_type": "execute_result"
        }
      ]
    },
    {
      "cell_type": "markdown",
      "metadata": {
        "id": "0Jte2Cf8McVe"
      },
      "source": [
        "**notnull()** returns True for all the occupied values and False for the missing value."
      ]
    },
    {
      "cell_type": "code",
      "metadata": {
        "colab": {
          "base_uri": "https://localhost:8080/",
          "height": 326
        },
        "id": "5qsOXepfpTRx",
        "outputId": "d2265535-357f-4c04-fce8-58ffa0bf3785"
      },
      "source": [
        "df.notnull()"
      ],
      "execution_count": null,
      "outputs": [
        {
          "data": {
            "text/html": [
              "<div>\n",
              "<style scoped>\n",
              "    .dataframe tbody tr th:only-of-type {\n",
              "        vertical-align: middle;\n",
              "    }\n",
              "\n",
              "    .dataframe tbody tr th {\n",
              "        vertical-align: top;\n",
              "    }\n",
              "\n",
              "    .dataframe thead th {\n",
              "        text-align: right;\n",
              "    }\n",
              "</style>\n",
              "<table border=\"1\" class=\"dataframe\">\n",
              "  <thead>\n",
              "    <tr style=\"text-align: right;\">\n",
              "      <th></th>\n",
              "      <th>Part</th>\n",
              "      <th>Feature</th>\n",
              "      <th>Price</th>\n",
              "    </tr>\n",
              "  </thead>\n",
              "  <tbody>\n",
              "    <tr>\n",
              "      <th>0</th>\n",
              "      <td>True</td>\n",
              "      <td>True</td>\n",
              "      <td>True</td>\n",
              "    </tr>\n",
              "    <tr>\n",
              "      <th>1</th>\n",
              "      <td>True</td>\n",
              "      <td>True</td>\n",
              "      <td>True</td>\n",
              "    </tr>\n",
              "    <tr>\n",
              "      <th>2</th>\n",
              "      <td>False</td>\n",
              "      <td>True</td>\n",
              "      <td>False</td>\n",
              "    </tr>\n",
              "    <tr>\n",
              "      <th>3</th>\n",
              "      <td>True</td>\n",
              "      <td>True</td>\n",
              "      <td>True</td>\n",
              "    </tr>\n",
              "    <tr>\n",
              "      <th>4</th>\n",
              "      <td>False</td>\n",
              "      <td>True</td>\n",
              "      <td>False</td>\n",
              "    </tr>\n",
              "    <tr>\n",
              "      <th>5</th>\n",
              "      <td>True</td>\n",
              "      <td>False</td>\n",
              "      <td>True</td>\n",
              "    </tr>\n",
              "    <tr>\n",
              "      <th>6</th>\n",
              "      <td>True</td>\n",
              "      <td>True</td>\n",
              "      <td>True</td>\n",
              "    </tr>\n",
              "    <tr>\n",
              "      <th>7</th>\n",
              "      <td>True</td>\n",
              "      <td>True</td>\n",
              "      <td>True</td>\n",
              "    </tr>\n",
              "    <tr>\n",
              "      <th>8</th>\n",
              "      <td>True</td>\n",
              "      <td>True</td>\n",
              "      <td>True</td>\n",
              "    </tr>\n",
              "  </tbody>\n",
              "</table>\n",
              "</div>"
            ],
            "text/plain": [
              "    Part  Feature  Price\n",
              "0   True     True   True\n",
              "1   True     True   True\n",
              "2  False     True  False\n",
              "3   True     True   True\n",
              "4  False     True  False\n",
              "5   True    False   True\n",
              "6   True     True   True\n",
              "7   True     True   True\n",
              "8   True     True   True"
            ]
          },
          "execution_count": 5,
          "metadata": {},
          "output_type": "execute_result"
        }
      ]
    },
    {
      "cell_type": "markdown",
      "metadata": {
        "id": "53X96ghaMedf"
      },
      "source": [
        "to remove all the rows having missing data we use **dropna()** function."
      ]
    },
    {
      "cell_type": "markdown",
      "metadata": {
        "id": "Pcu8eNBqNbN3"
      },
      "source": [
        "**dropna()** removes the entire row having missing value"
      ]
    },
    {
      "cell_type": "code",
      "metadata": {
        "colab": {
          "base_uri": "https://localhost:8080/",
          "height": 234
        },
        "id": "qHxQ3cugpfkv",
        "outputId": "505fe1a2-b840-461b-a84e-edb3bdee595a"
      },
      "source": [
        "df.dropna()"
      ],
      "execution_count": null,
      "outputs": [
        {
          "data": {
            "text/html": [
              "<div>\n",
              "<style scoped>\n",
              "    .dataframe tbody tr th:only-of-type {\n",
              "        vertical-align: middle;\n",
              "    }\n",
              "\n",
              "    .dataframe tbody tr th {\n",
              "        vertical-align: top;\n",
              "    }\n",
              "\n",
              "    .dataframe thead th {\n",
              "        text-align: right;\n",
              "    }\n",
              "</style>\n",
              "<table border=\"1\" class=\"dataframe\">\n",
              "  <thead>\n",
              "    <tr style=\"text-align: right;\">\n",
              "      <th></th>\n",
              "      <th>Part</th>\n",
              "      <th>Feature</th>\n",
              "      <th>Price</th>\n",
              "    </tr>\n",
              "  </thead>\n",
              "  <tbody>\n",
              "    <tr>\n",
              "      <th>0</th>\n",
              "      <td>Monitor</td>\n",
              "      <td>LED</td>\n",
              "      <td>12000.0</td>\n",
              "    </tr>\n",
              "    <tr>\n",
              "      <th>1</th>\n",
              "      <td>CPU</td>\n",
              "      <td>i7</td>\n",
              "      <td>3500.0</td>\n",
              "    </tr>\n",
              "    <tr>\n",
              "      <th>3</th>\n",
              "      <td>Mouse</td>\n",
              "      <td>Wireless</td>\n",
              "      <td>1200.0</td>\n",
              "    </tr>\n",
              "    <tr>\n",
              "      <th>6</th>\n",
              "      <td>Table</td>\n",
              "      <td>Urban Clap</td>\n",
              "      <td>7000.0</td>\n",
              "    </tr>\n",
              "    <tr>\n",
              "      <th>7</th>\n",
              "      <td>Chair</td>\n",
              "      <td>Apex Chairs</td>\n",
              "      <td>12000.0</td>\n",
              "    </tr>\n",
              "    <tr>\n",
              "      <th>8</th>\n",
              "      <td>Wifi</td>\n",
              "      <td>Airtel</td>\n",
              "      <td>799.0</td>\n",
              "    </tr>\n",
              "  </tbody>\n",
              "</table>\n",
              "</div>"
            ],
            "text/plain": [
              "      Part      Feature    Price\n",
              "0  Monitor          LED  12000.0\n",
              "1      CPU           i7   3500.0\n",
              "3    Mouse     Wireless   1200.0\n",
              "6    Table   Urban Clap   7000.0\n",
              "7    Chair  Apex Chairs  12000.0\n",
              "8     Wifi       Airtel    799.0"
            ]
          },
          "execution_count": 6,
          "metadata": {},
          "output_type": "execute_result"
        }
      ]
    },
    {
      "cell_type": "markdown",
      "metadata": {
        "id": "V3xHkKvzMhhf"
      },
      "source": [
        "**replace()** function is used to replace the item(s) with name or value. It takes two popular arguments."
      ]
    },
    {
      "cell_type": "markdown",
      "metadata": {
        "id": "1QDQUPC1MmeQ"
      },
      "source": [
        "**to_replace:** the value you want to change\n",
        "\n",
        "**value:** The new value you want to provide"
      ]
    },
    {
      "cell_type": "code",
      "metadata": {
        "colab": {
          "base_uri": "https://localhost:8080/",
          "height": 326
        },
        "id": "7yRKC7eopnTC",
        "outputId": "2a63a8b6-a651-4ad1-e912-55bacfd06224"
      },
      "source": [
        "df.replace(to_replace= 12000, value=13000)"
      ],
      "execution_count": null,
      "outputs": [
        {
          "data": {
            "text/html": [
              "<div>\n",
              "<style scoped>\n",
              "    .dataframe tbody tr th:only-of-type {\n",
              "        vertical-align: middle;\n",
              "    }\n",
              "\n",
              "    .dataframe tbody tr th {\n",
              "        vertical-align: top;\n",
              "    }\n",
              "\n",
              "    .dataframe thead th {\n",
              "        text-align: right;\n",
              "    }\n",
              "</style>\n",
              "<table border=\"1\" class=\"dataframe\">\n",
              "  <thead>\n",
              "    <tr style=\"text-align: right;\">\n",
              "      <th></th>\n",
              "      <th>Part</th>\n",
              "      <th>Feature</th>\n",
              "      <th>Price</th>\n",
              "    </tr>\n",
              "  </thead>\n",
              "  <tbody>\n",
              "    <tr>\n",
              "      <th>0</th>\n",
              "      <td>Monitor</td>\n",
              "      <td>LED</td>\n",
              "      <td>13000.0</td>\n",
              "    </tr>\n",
              "    <tr>\n",
              "      <th>1</th>\n",
              "      <td>CPU</td>\n",
              "      <td>i7</td>\n",
              "      <td>3500.0</td>\n",
              "    </tr>\n",
              "    <tr>\n",
              "      <th>2</th>\n",
              "      <td>None</td>\n",
              "      <td>RGB</td>\n",
              "      <td>NaN</td>\n",
              "    </tr>\n",
              "    <tr>\n",
              "      <th>3</th>\n",
              "      <td>Mouse</td>\n",
              "      <td>Wireless</td>\n",
              "      <td>1200.0</td>\n",
              "    </tr>\n",
              "    <tr>\n",
              "      <th>4</th>\n",
              "      <td>None</td>\n",
              "      <td>Zebronics</td>\n",
              "      <td>NaN</td>\n",
              "    </tr>\n",
              "    <tr>\n",
              "      <th>5</th>\n",
              "      <td>Extensions</td>\n",
              "      <td>None</td>\n",
              "      <td>250.0</td>\n",
              "    </tr>\n",
              "    <tr>\n",
              "      <th>6</th>\n",
              "      <td>Table</td>\n",
              "      <td>Urban Clap</td>\n",
              "      <td>7000.0</td>\n",
              "    </tr>\n",
              "    <tr>\n",
              "      <th>7</th>\n",
              "      <td>Chair</td>\n",
              "      <td>Apex Chairs</td>\n",
              "      <td>13000.0</td>\n",
              "    </tr>\n",
              "    <tr>\n",
              "      <th>8</th>\n",
              "      <td>Wifi</td>\n",
              "      <td>Airtel</td>\n",
              "      <td>799.0</td>\n",
              "    </tr>\n",
              "  </tbody>\n",
              "</table>\n",
              "</div>"
            ],
            "text/plain": [
              "         Part      Feature    Price\n",
              "0     Monitor          LED  13000.0\n",
              "1         CPU           i7   3500.0\n",
              "2        None          RGB      NaN\n",
              "3       Mouse     Wireless   1200.0\n",
              "4        None    Zebronics      NaN\n",
              "5  Extensions         None    250.0\n",
              "6       Table   Urban Clap   7000.0\n",
              "7       Chair  Apex Chairs  13000.0\n",
              "8        Wifi       Airtel    799.0"
            ]
          },
          "execution_count": 7,
          "metadata": {},
          "output_type": "execute_result"
        }
      ]
    },
    {
      "cell_type": "markdown",
      "metadata": {
        "id": "U0vcwCFAh1We"
      },
      "source": [
        "# Time Series Missing Data Pandas:"
      ]
    },
    {
      "cell_type": "markdown",
      "metadata": {
        "id": "n-ssUa4VSk3V"
      },
      "source": [
        "**Time series data refers to the missing data within some time classification.**"
      ]
    },
    {
      "cell_type": "code",
      "metadata": {
        "id": "H0yjor1ASErF"
      },
      "source": [
        "import pandas as pd"
      ],
      "execution_count": null,
      "outputs": []
    },
    {
      "cell_type": "code",
      "metadata": {
        "id": "NH7nX0lOSQcR"
      },
      "source": [
        "\n",
        "df = pd.DataFrame({\n",
        "    'date': pd.date_range(start='2021-01-01', periods=20, freq='H'), \n",
        "    'value': range(20)\n",
        "    })"
      ],
      "execution_count": null,
      "outputs": []
    },
    {
      "cell_type": "code",
      "metadata": {
        "colab": {
          "base_uri": "https://localhost:8080/",
          "height": 665
        },
        "id": "7YnlkMs1STCB",
        "outputId": "49979868-eff2-48bc-a987-e0d370d09c6e"
      },
      "source": [
        "df"
      ],
      "execution_count": null,
      "outputs": [
        {
          "data": {
            "text/html": [
              "<div>\n",
              "<style scoped>\n",
              "    .dataframe tbody tr th:only-of-type {\n",
              "        vertical-align: middle;\n",
              "    }\n",
              "\n",
              "    .dataframe tbody tr th {\n",
              "        vertical-align: top;\n",
              "    }\n",
              "\n",
              "    .dataframe thead th {\n",
              "        text-align: right;\n",
              "    }\n",
              "</style>\n",
              "<table border=\"1\" class=\"dataframe\">\n",
              "  <thead>\n",
              "    <tr style=\"text-align: right;\">\n",
              "      <th></th>\n",
              "      <th>date</th>\n",
              "      <th>value</th>\n",
              "    </tr>\n",
              "  </thead>\n",
              "  <tbody>\n",
              "    <tr>\n",
              "      <th>0</th>\n",
              "      <td>2021-01-01 00:00:00</td>\n",
              "      <td>0</td>\n",
              "    </tr>\n",
              "    <tr>\n",
              "      <th>1</th>\n",
              "      <td>2021-01-01 01:00:00</td>\n",
              "      <td>1</td>\n",
              "    </tr>\n",
              "    <tr>\n",
              "      <th>2</th>\n",
              "      <td>2021-01-01 02:00:00</td>\n",
              "      <td>2</td>\n",
              "    </tr>\n",
              "    <tr>\n",
              "      <th>3</th>\n",
              "      <td>2021-01-01 03:00:00</td>\n",
              "      <td>3</td>\n",
              "    </tr>\n",
              "    <tr>\n",
              "      <th>4</th>\n",
              "      <td>2021-01-01 04:00:00</td>\n",
              "      <td>4</td>\n",
              "    </tr>\n",
              "    <tr>\n",
              "      <th>5</th>\n",
              "      <td>2021-01-01 05:00:00</td>\n",
              "      <td>5</td>\n",
              "    </tr>\n",
              "    <tr>\n",
              "      <th>6</th>\n",
              "      <td>2021-01-01 06:00:00</td>\n",
              "      <td>6</td>\n",
              "    </tr>\n",
              "    <tr>\n",
              "      <th>7</th>\n",
              "      <td>2021-01-01 07:00:00</td>\n",
              "      <td>7</td>\n",
              "    </tr>\n",
              "    <tr>\n",
              "      <th>8</th>\n",
              "      <td>2021-01-01 08:00:00</td>\n",
              "      <td>8</td>\n",
              "    </tr>\n",
              "    <tr>\n",
              "      <th>9</th>\n",
              "      <td>2021-01-01 09:00:00</td>\n",
              "      <td>9</td>\n",
              "    </tr>\n",
              "    <tr>\n",
              "      <th>10</th>\n",
              "      <td>2021-01-01 10:00:00</td>\n",
              "      <td>10</td>\n",
              "    </tr>\n",
              "    <tr>\n",
              "      <th>11</th>\n",
              "      <td>2021-01-01 11:00:00</td>\n",
              "      <td>11</td>\n",
              "    </tr>\n",
              "    <tr>\n",
              "      <th>12</th>\n",
              "      <td>2021-01-01 12:00:00</td>\n",
              "      <td>12</td>\n",
              "    </tr>\n",
              "    <tr>\n",
              "      <th>13</th>\n",
              "      <td>2021-01-01 13:00:00</td>\n",
              "      <td>13</td>\n",
              "    </tr>\n",
              "    <tr>\n",
              "      <th>14</th>\n",
              "      <td>2021-01-01 14:00:00</td>\n",
              "      <td>14</td>\n",
              "    </tr>\n",
              "    <tr>\n",
              "      <th>15</th>\n",
              "      <td>2021-01-01 15:00:00</td>\n",
              "      <td>15</td>\n",
              "    </tr>\n",
              "    <tr>\n",
              "      <th>16</th>\n",
              "      <td>2021-01-01 16:00:00</td>\n",
              "      <td>16</td>\n",
              "    </tr>\n",
              "    <tr>\n",
              "      <th>17</th>\n",
              "      <td>2021-01-01 17:00:00</td>\n",
              "      <td>17</td>\n",
              "    </tr>\n",
              "    <tr>\n",
              "      <th>18</th>\n",
              "      <td>2021-01-01 18:00:00</td>\n",
              "      <td>18</td>\n",
              "    </tr>\n",
              "    <tr>\n",
              "      <th>19</th>\n",
              "      <td>2021-01-01 19:00:00</td>\n",
              "      <td>19</td>\n",
              "    </tr>\n",
              "  </tbody>\n",
              "</table>\n",
              "</div>"
            ],
            "text/plain": [
              "                  date  value\n",
              "0  2021-01-01 00:00:00      0\n",
              "1  2021-01-01 01:00:00      1\n",
              "2  2021-01-01 02:00:00      2\n",
              "3  2021-01-01 03:00:00      3\n",
              "4  2021-01-01 04:00:00      4\n",
              "5  2021-01-01 05:00:00      5\n",
              "6  2021-01-01 06:00:00      6\n",
              "7  2021-01-01 07:00:00      7\n",
              "8  2021-01-01 08:00:00      8\n",
              "9  2021-01-01 09:00:00      9\n",
              "10 2021-01-01 10:00:00     10\n",
              "11 2021-01-01 11:00:00     11\n",
              "12 2021-01-01 12:00:00     12\n",
              "13 2021-01-01 13:00:00     13\n",
              "14 2021-01-01 14:00:00     14\n",
              "15 2021-01-01 15:00:00     15\n",
              "16 2021-01-01 16:00:00     16\n",
              "17 2021-01-01 17:00:00     17\n",
              "18 2021-01-01 18:00:00     18\n",
              "19 2021-01-01 19:00:00     19"
            ]
          },
          "execution_count": 10,
          "metadata": {},
          "output_type": "execute_result"
        }
      ]
    },
    {
      "cell_type": "markdown",
      "metadata": {
        "id": "Z5vdKKOMiFvd"
      },
      "source": [
        "# Count Missing Data Pandas:"
      ]
    },
    {
      "cell_type": "markdown",
      "metadata": {
        "id": "NUHw-UzNPIIV"
      },
      "source": [
        "First import pandas :"
      ]
    },
    {
      "cell_type": "code",
      "metadata": {
        "id": "9gwyYJftMNo8"
      },
      "source": [
        "import pandas as pd"
      ],
      "execution_count": null,
      "outputs": []
    },
    {
      "cell_type": "code",
      "metadata": {
        "id": "k84ouDvQNT78"
      },
      "source": [
        "df = pd.DataFrame({\n",
        "    'Part': ['Monitor', 'CPU', None, 'Mouse', None, 'Extensions', 'Table', 'Chair', 'Wifi'],\n",
        "    'Feature': ['LED', 'i7', 'RGB', 'Wireless', 'Zebronics', None, 'Urban Clap', 'Apex Chairs', 'Airtel'],\n",
        "    'Price': [12000, 3500, None, 1200, None, 250, 7000, 12000, 799]\n",
        "})"
      ],
      "execution_count": null,
      "outputs": []
    },
    {
      "cell_type": "code",
      "metadata": {
        "colab": {
          "base_uri": "https://localhost:8080/",
          "height": 326
        },
        "id": "ABLI0EvnNfZq",
        "outputId": "b04fa6b2-ba05-4ad9-9522-c9289082ac8d"
      },
      "source": [
        "df"
      ],
      "execution_count": null,
      "outputs": [
        {
          "data": {
            "text/html": [
              "<div>\n",
              "<style scoped>\n",
              "    .dataframe tbody tr th:only-of-type {\n",
              "        vertical-align: middle;\n",
              "    }\n",
              "\n",
              "    .dataframe tbody tr th {\n",
              "        vertical-align: top;\n",
              "    }\n",
              "\n",
              "    .dataframe thead th {\n",
              "        text-align: right;\n",
              "    }\n",
              "</style>\n",
              "<table border=\"1\" class=\"dataframe\">\n",
              "  <thead>\n",
              "    <tr style=\"text-align: right;\">\n",
              "      <th></th>\n",
              "      <th>Part</th>\n",
              "      <th>Feature</th>\n",
              "      <th>Price</th>\n",
              "    </tr>\n",
              "  </thead>\n",
              "  <tbody>\n",
              "    <tr>\n",
              "      <th>0</th>\n",
              "      <td>Monitor</td>\n",
              "      <td>LED</td>\n",
              "      <td>12000.0</td>\n",
              "    </tr>\n",
              "    <tr>\n",
              "      <th>1</th>\n",
              "      <td>CPU</td>\n",
              "      <td>i7</td>\n",
              "      <td>3500.0</td>\n",
              "    </tr>\n",
              "    <tr>\n",
              "      <th>2</th>\n",
              "      <td>None</td>\n",
              "      <td>RGB</td>\n",
              "      <td>NaN</td>\n",
              "    </tr>\n",
              "    <tr>\n",
              "      <th>3</th>\n",
              "      <td>Mouse</td>\n",
              "      <td>Wireless</td>\n",
              "      <td>1200.0</td>\n",
              "    </tr>\n",
              "    <tr>\n",
              "      <th>4</th>\n",
              "      <td>None</td>\n",
              "      <td>Zebronics</td>\n",
              "      <td>NaN</td>\n",
              "    </tr>\n",
              "    <tr>\n",
              "      <th>5</th>\n",
              "      <td>Extensions</td>\n",
              "      <td>None</td>\n",
              "      <td>250.0</td>\n",
              "    </tr>\n",
              "    <tr>\n",
              "      <th>6</th>\n",
              "      <td>Table</td>\n",
              "      <td>Urban Clap</td>\n",
              "      <td>7000.0</td>\n",
              "    </tr>\n",
              "    <tr>\n",
              "      <th>7</th>\n",
              "      <td>Chair</td>\n",
              "      <td>Apex Chairs</td>\n",
              "      <td>12000.0</td>\n",
              "    </tr>\n",
              "    <tr>\n",
              "      <th>8</th>\n",
              "      <td>Wifi</td>\n",
              "      <td>Airtel</td>\n",
              "      <td>799.0</td>\n",
              "    </tr>\n",
              "  </tbody>\n",
              "</table>\n",
              "</div>"
            ],
            "text/plain": [
              "         Part      Feature    Price\n",
              "0     Monitor          LED  12000.0\n",
              "1         CPU           i7   3500.0\n",
              "2        None          RGB      NaN\n",
              "3       Mouse     Wireless   1200.0\n",
              "4        None    Zebronics      NaN\n",
              "5  Extensions         None    250.0\n",
              "6       Table   Urban Clap   7000.0\n",
              "7       Chair  Apex Chairs  12000.0\n",
              "8        Wifi       Airtel    799.0"
            ]
          },
          "execution_count": 13,
          "metadata": {},
          "output_type": "execute_result"
        }
      ]
    },
    {
      "cell_type": "markdown",
      "metadata": {
        "id": "0attvyARNVE0"
      },
      "source": [
        "Now we use two functions.\n",
        "*   isnull() – returns true for missing values\n",
        "*   sum() – returns the count\n",
        "\n"
      ]
    },
    {
      "cell_type": "markdown",
      "metadata": {
        "id": "CZlvujN9Mpro"
      },
      "source": [
        "combining both these functions together gives us a total count of the missing data in a dataset.\n",
        "\n",
        "`df.isnull().sum()`"
      ]
    },
    {
      "cell_type": "code",
      "metadata": {
        "colab": {
          "base_uri": "https://localhost:8080/"
        },
        "id": "ni7Gkk0BOk6K",
        "outputId": "caa6e779-0708-40f8-df9d-f7607e201054"
      },
      "source": [
        "df.isnull().sum()"
      ],
      "execution_count": null,
      "outputs": [
        {
          "data": {
            "text/plain": [
              "Part       2\n",
              "Feature    1\n",
              "Price      2\n",
              "dtype: int64"
            ]
          },
          "execution_count": 14,
          "metadata": {},
          "output_type": "execute_result"
        }
      ]
    },
    {
      "cell_type": "markdown",
      "metadata": {
        "id": "ZA4Or0hcikPc"
      },
      "source": [
        "# Remove Missing Data Pandas:"
      ]
    },
    {
      "cell_type": "markdown",
      "metadata": {
        "id": "sLegI96HPxGc"
      },
      "source": [
        "**Removing missing data is part of data cleaning.**\n",
        "\n",
        "Missing Data can only be removed either by filling the space or by deleting the entire row that has a missing value."
      ]
    },
    {
      "cell_type": "markdown",
      "metadata": {
        "id": "VW4HqIIuM3Hb"
      },
      "source": [
        "**fillna()**\n",
        "\n",
        "This function will fill all the missing values with the provided value."
      ]
    },
    {
      "cell_type": "code",
      "metadata": {
        "colab": {
          "base_uri": "https://localhost:8080/",
          "height": 326
        },
        "id": "tfwTjgxcqfTa",
        "outputId": "2d695d88-c348-43ea-c6a2-adcbe16a5d1f"
      },
      "source": [
        "df.fillna('None')"
      ],
      "execution_count": null,
      "outputs": [
        {
          "data": {
            "text/html": [
              "<div>\n",
              "<style scoped>\n",
              "    .dataframe tbody tr th:only-of-type {\n",
              "        vertical-align: middle;\n",
              "    }\n",
              "\n",
              "    .dataframe tbody tr th {\n",
              "        vertical-align: top;\n",
              "    }\n",
              "\n",
              "    .dataframe thead th {\n",
              "        text-align: right;\n",
              "    }\n",
              "</style>\n",
              "<table border=\"1\" class=\"dataframe\">\n",
              "  <thead>\n",
              "    <tr style=\"text-align: right;\">\n",
              "      <th></th>\n",
              "      <th>Part</th>\n",
              "      <th>Feature</th>\n",
              "      <th>Price</th>\n",
              "    </tr>\n",
              "  </thead>\n",
              "  <tbody>\n",
              "    <tr>\n",
              "      <th>0</th>\n",
              "      <td>Monitor</td>\n",
              "      <td>LED</td>\n",
              "      <td>12000</td>\n",
              "    </tr>\n",
              "    <tr>\n",
              "      <th>1</th>\n",
              "      <td>CPU</td>\n",
              "      <td>i7</td>\n",
              "      <td>3500</td>\n",
              "    </tr>\n",
              "    <tr>\n",
              "      <th>2</th>\n",
              "      <td>None</td>\n",
              "      <td>RGB</td>\n",
              "      <td>None</td>\n",
              "    </tr>\n",
              "    <tr>\n",
              "      <th>3</th>\n",
              "      <td>Mouse</td>\n",
              "      <td>Wireless</td>\n",
              "      <td>1200</td>\n",
              "    </tr>\n",
              "    <tr>\n",
              "      <th>4</th>\n",
              "      <td>None</td>\n",
              "      <td>Zebronics</td>\n",
              "      <td>None</td>\n",
              "    </tr>\n",
              "    <tr>\n",
              "      <th>5</th>\n",
              "      <td>Extensions</td>\n",
              "      <td>None</td>\n",
              "      <td>250</td>\n",
              "    </tr>\n",
              "    <tr>\n",
              "      <th>6</th>\n",
              "      <td>Table</td>\n",
              "      <td>Urban Clap</td>\n",
              "      <td>7000</td>\n",
              "    </tr>\n",
              "    <tr>\n",
              "      <th>7</th>\n",
              "      <td>Chair</td>\n",
              "      <td>Apex Chairs</td>\n",
              "      <td>12000</td>\n",
              "    </tr>\n",
              "    <tr>\n",
              "      <th>8</th>\n",
              "      <td>Wifi</td>\n",
              "      <td>Airtel</td>\n",
              "      <td>799</td>\n",
              "    </tr>\n",
              "  </tbody>\n",
              "</table>\n",
              "</div>"
            ],
            "text/plain": [
              "         Part      Feature  Price\n",
              "0     Monitor          LED  12000\n",
              "1         CPU           i7   3500\n",
              "2        None          RGB   None\n",
              "3       Mouse     Wireless   1200\n",
              "4        None    Zebronics   None\n",
              "5  Extensions         None    250\n",
              "6       Table   Urban Clap   7000\n",
              "7       Chair  Apex Chairs  12000\n",
              "8        Wifi       Airtel    799"
            ]
          },
          "execution_count": 15,
          "metadata": {},
          "output_type": "execute_result"
        }
      ]
    },
    {
      "cell_type": "markdown",
      "metadata": {
        "id": "1tU1zk5bi3Tc"
      },
      "source": [
        "# Interpolate Missing Data Pandas:"
      ]
    },
    {
      "cell_type": "markdown",
      "metadata": {
        "id": "3QDh5dxDP4K6"
      },
      "source": [
        "\n",
        "\n",
        "*   Interpolate is a powerful function that is used to fill the missing data with some values.\n",
        "*   Interpolate uses a linear method to generate a value to place empty space.\n",
        "\n",
        "\n",
        "\n",
        "\n",
        "\n"
      ]
    },
    {
      "cell_type": "code",
      "metadata": {
        "id": "QrW9SxViPXuL"
      },
      "source": [
        "import pandas as pd"
      ],
      "execution_count": null,
      "outputs": []
    },
    {
      "cell_type": "code",
      "metadata": {
        "id": "xv-LCVP7Q4F7"
      },
      "source": [
        "df = pd.DataFrame({\n",
        "    'Part': ['Monitor', 'CPU', None, 'Mouse', None, 'Extensions', 'Table', 'Chair', 'Wifi'],\n",
        "    'Feature': ['LED', 'i7', 'RGB', 'Wireless', 'Zebronics', None, 'Urban Clap', 'Apex Chairs', 'Airtel'],\n",
        "    'Price': [12000, 3500, None, 1200, None, 250, 7000, 12000, 799]\n",
        "})"
      ],
      "execution_count": null,
      "outputs": []
    },
    {
      "cell_type": "code",
      "metadata": {
        "colab": {
          "base_uri": "https://localhost:8080/",
          "height": 326
        },
        "id": "22zQ9T7JRAMO",
        "outputId": "901cf3e1-c9bc-4ffe-d4bc-dcd45cb61148"
      },
      "source": [
        "df"
      ],
      "execution_count": null,
      "outputs": [
        {
          "data": {
            "text/html": [
              "<div>\n",
              "<style scoped>\n",
              "    .dataframe tbody tr th:only-of-type {\n",
              "        vertical-align: middle;\n",
              "    }\n",
              "\n",
              "    .dataframe tbody tr th {\n",
              "        vertical-align: top;\n",
              "    }\n",
              "\n",
              "    .dataframe thead th {\n",
              "        text-align: right;\n",
              "    }\n",
              "</style>\n",
              "<table border=\"1\" class=\"dataframe\">\n",
              "  <thead>\n",
              "    <tr style=\"text-align: right;\">\n",
              "      <th></th>\n",
              "      <th>Part</th>\n",
              "      <th>Feature</th>\n",
              "      <th>Price</th>\n",
              "    </tr>\n",
              "  </thead>\n",
              "  <tbody>\n",
              "    <tr>\n",
              "      <th>0</th>\n",
              "      <td>Monitor</td>\n",
              "      <td>LED</td>\n",
              "      <td>12000.0</td>\n",
              "    </tr>\n",
              "    <tr>\n",
              "      <th>1</th>\n",
              "      <td>CPU</td>\n",
              "      <td>i7</td>\n",
              "      <td>3500.0</td>\n",
              "    </tr>\n",
              "    <tr>\n",
              "      <th>2</th>\n",
              "      <td>None</td>\n",
              "      <td>RGB</td>\n",
              "      <td>NaN</td>\n",
              "    </tr>\n",
              "    <tr>\n",
              "      <th>3</th>\n",
              "      <td>Mouse</td>\n",
              "      <td>Wireless</td>\n",
              "      <td>1200.0</td>\n",
              "    </tr>\n",
              "    <tr>\n",
              "      <th>4</th>\n",
              "      <td>None</td>\n",
              "      <td>Zebronics</td>\n",
              "      <td>NaN</td>\n",
              "    </tr>\n",
              "    <tr>\n",
              "      <th>5</th>\n",
              "      <td>Extensions</td>\n",
              "      <td>None</td>\n",
              "      <td>250.0</td>\n",
              "    </tr>\n",
              "    <tr>\n",
              "      <th>6</th>\n",
              "      <td>Table</td>\n",
              "      <td>Urban Clap</td>\n",
              "      <td>7000.0</td>\n",
              "    </tr>\n",
              "    <tr>\n",
              "      <th>7</th>\n",
              "      <td>Chair</td>\n",
              "      <td>Apex Chairs</td>\n",
              "      <td>12000.0</td>\n",
              "    </tr>\n",
              "    <tr>\n",
              "      <th>8</th>\n",
              "      <td>Wifi</td>\n",
              "      <td>Airtel</td>\n",
              "      <td>799.0</td>\n",
              "    </tr>\n",
              "  </tbody>\n",
              "</table>\n",
              "</div>"
            ],
            "text/plain": [
              "         Part      Feature    Price\n",
              "0     Monitor          LED  12000.0\n",
              "1         CPU           i7   3500.0\n",
              "2        None          RGB      NaN\n",
              "3       Mouse     Wireless   1200.0\n",
              "4        None    Zebronics      NaN\n",
              "5  Extensions         None    250.0\n",
              "6       Table   Urban Clap   7000.0\n",
              "7       Chair  Apex Chairs  12000.0\n",
              "8        Wifi       Airtel    799.0"
            ]
          },
          "execution_count": 18,
          "metadata": {},
          "output_type": "execute_result"
        }
      ]
    },
    {
      "cell_type": "markdown",
      "metadata": {
        "id": "0cegaF-lRg2A"
      },
      "source": [
        "**Filling missing values using interpolate**\n",
        "\n",
        "\n",
        "*   interpolte uses linear method to generate value\n",
        "*   pay attention to the values inplace of NaN\n",
        "\n"
      ]
    },
    {
      "cell_type": "code",
      "metadata": {
        "colab": {
          "base_uri": "https://localhost:8080/",
          "height": 326
        },
        "id": "Tdlc1kBASA0r",
        "outputId": "8d9aba94-4b07-494a-fb22-f37285909f28"
      },
      "source": [
        "df.interpolate(method='linear')"
      ],
      "execution_count": null,
      "outputs": [
        {
          "data": {
            "text/html": [
              "<div>\n",
              "<style scoped>\n",
              "    .dataframe tbody tr th:only-of-type {\n",
              "        vertical-align: middle;\n",
              "    }\n",
              "\n",
              "    .dataframe tbody tr th {\n",
              "        vertical-align: top;\n",
              "    }\n",
              "\n",
              "    .dataframe thead th {\n",
              "        text-align: right;\n",
              "    }\n",
              "</style>\n",
              "<table border=\"1\" class=\"dataframe\">\n",
              "  <thead>\n",
              "    <tr style=\"text-align: right;\">\n",
              "      <th></th>\n",
              "      <th>Part</th>\n",
              "      <th>Feature</th>\n",
              "      <th>Price</th>\n",
              "    </tr>\n",
              "  </thead>\n",
              "  <tbody>\n",
              "    <tr>\n",
              "      <th>0</th>\n",
              "      <td>Monitor</td>\n",
              "      <td>LED</td>\n",
              "      <td>12000.0</td>\n",
              "    </tr>\n",
              "    <tr>\n",
              "      <th>1</th>\n",
              "      <td>CPU</td>\n",
              "      <td>i7</td>\n",
              "      <td>3500.0</td>\n",
              "    </tr>\n",
              "    <tr>\n",
              "      <th>2</th>\n",
              "      <td>None</td>\n",
              "      <td>RGB</td>\n",
              "      <td>2350.0</td>\n",
              "    </tr>\n",
              "    <tr>\n",
              "      <th>3</th>\n",
              "      <td>Mouse</td>\n",
              "      <td>Wireless</td>\n",
              "      <td>1200.0</td>\n",
              "    </tr>\n",
              "    <tr>\n",
              "      <th>4</th>\n",
              "      <td>None</td>\n",
              "      <td>Zebronics</td>\n",
              "      <td>725.0</td>\n",
              "    </tr>\n",
              "    <tr>\n",
              "      <th>5</th>\n",
              "      <td>Extensions</td>\n",
              "      <td>None</td>\n",
              "      <td>250.0</td>\n",
              "    </tr>\n",
              "    <tr>\n",
              "      <th>6</th>\n",
              "      <td>Table</td>\n",
              "      <td>Urban Clap</td>\n",
              "      <td>7000.0</td>\n",
              "    </tr>\n",
              "    <tr>\n",
              "      <th>7</th>\n",
              "      <td>Chair</td>\n",
              "      <td>Apex Chairs</td>\n",
              "      <td>12000.0</td>\n",
              "    </tr>\n",
              "    <tr>\n",
              "      <th>8</th>\n",
              "      <td>Wifi</td>\n",
              "      <td>Airtel</td>\n",
              "      <td>799.0</td>\n",
              "    </tr>\n",
              "  </tbody>\n",
              "</table>\n",
              "</div>"
            ],
            "text/plain": [
              "         Part      Feature    Price\n",
              "0     Monitor          LED  12000.0\n",
              "1         CPU           i7   3500.0\n",
              "2        None          RGB   2350.0\n",
              "3       Mouse     Wireless   1200.0\n",
              "4        None    Zebronics    725.0\n",
              "5  Extensions         None    250.0\n",
              "6       Table   Urban Clap   7000.0\n",
              "7       Chair  Apex Chairs  12000.0\n",
              "8        Wifi       Airtel    799.0"
            ]
          },
          "execution_count": 19,
          "metadata": {},
          "output_type": "execute_result"
        }
      ]
    },
    {
      "cell_type": "markdown",
      "metadata": {
        "id": "LWEruqngjDSu"
      },
      "source": [
        "# Impute Missing Data Pandas:"
      ]
    },
    {
      "cell_type": "markdown",
      "metadata": {
        "id": "VmJqEtxnXAmO"
      },
      "source": [
        "Impute missing data simply means using a model to replace missing values.\n",
        "\n",
        "There are more than one ways that can be considered before replacing missing values. Few of them are :\n",
        "\n",
        "- A constant value that has meaning within the domain, such as 0, distinct from all other values.\n",
        "\n",
        "- A value from another randomly selected record.\n",
        "\n",
        "- A mean, median, or mode value for the column.\n",
        "\n",
        "- A value estimated by another predictive model.\n",
        "\n",
        "Any imputing performed on the training dataset will have to be performed on new data in the future when predictions are needed from the finalized model. This needs to be taken into consideration when choosing how to impute the missing values.\n",
        "\n",
        "For example, if you choose to impute with median column values, these median column values will need to be stored to file for later use on new data that has missing values.\n",
        "\n",
        "Pandas provide the fillna() function for replacing missing values with a specific value."
      ]
    },
    {
      "cell_type": "markdown",
      "metadata": {
        "id": "dCY57Z14mHWp"
      },
      "source": [
        "# **Result**"
      ]
    },
    {
      "cell_type": "markdown",
      "metadata": {
        "id": "6eHWcQJemOa7"
      },
      "source": [
        "The missing data is handled and program ran successfully"
      ]
    }
  ]
}